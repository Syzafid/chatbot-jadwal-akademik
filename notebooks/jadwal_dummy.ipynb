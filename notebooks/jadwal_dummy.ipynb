{
 "cells": [
  {
   "cell_type": "code",
   "execution_count": null,
   "id": "aae61522",
   "metadata": {},
   "outputs": [],
   "source": [
    "import pandas as pd\n"
   ]
  },
  {
   "cell_type": "code",
   "execution_count": null,
   "id": "e86c1d95",
   "metadata": {},
   "outputs": [],
   "source": [
    "data = [\n",
    "    [\"Senin\", \"08:00\", \"09:00\", 1, \"TRPL-1\", \"4.6\", \"Agama\", 2, None, None, \"TRPL\"],\n",
    "    [\"Senin\", \"08:00\", \"09:00\", 3, \"TRPL-3\", \"3.4\", \"Praktik Analisis & Desain Perangkat Lunak\", 2, \"TFQ\", \"Taufiqurrahman, ST., M.Kom\", \"TRPL\"],\n",
    "    [\"Senin\", \"08:00\", \"09:00\", 5, \"TRPL-5\", \"4.1\", \"Agile Development\", 2, \"RIZ\", \"Rizki Ramadhansyah, S.T., M.Kom\", \"TRPL\"],\n",
    "    [\"Senin\", \"08:00\", \"09:00\", 7, \"TRPL-7\", \"LPNGN\", \"Kuliah Kerja Nyata\", 3, None, None, \"TRPL\"],\n",
    "    [\"Senin\", \"10:00\", \"11:00\", 1, \"TRPL-1\", \"AUD/4.4\", \"Bahasa Indonesia\", 3, \"JUN\", \"Juni Anggraini, SST, M.Si\", \"TRPL\"],\n",
    "    [\"Senin\", \"10:00\", \"11:00\", 3, \"TRPL-3\", \"3.4\", \"Metode & Model Pengembangan PL\", 2, \"RIZ\", \"Rizki Ramadhansyah, S.T., M.Kom\", \"TRPL\"],\n",
    "    [\"Senin\", \"11:00\", \"12:00\", 7, \"TRPL-7\", \"LPNGN\", \"Proyek Pengembangan PL\", 6, None, None, \"TRPL\"],\n",
    "    [\"Senin\", \"12:00\", \"13:00\", 7, \"TRPL-7\", \"LPNGN\", \"Tugas Akhir\", 6, None, None, \"TRPL\"],\n",
    "]\n",
    "\n",
    "columns = [\n",
    "    \"Hari\", \"Jam Mulai\", \"Jam Selesai\", \"Semester\",\n",
    "    \"Group\", \"Ruang\", \"Mata Kuliah\", \"SKS\",\n",
    "    \"DosenKode\", \"DosenNama\", \"Prodi\"\n",
    "]\n",
    "\n",
    "df = pd.DataFrame(data, columns=columns)\n",
    "df\n"
   ]
  },
  {
   "cell_type": "code",
   "execution_count": null,
   "id": "926beb62",
   "metadata": {},
   "outputs": [],
   "source": [
    "# Contoh filter: tampilkan jadwal untuk Semester 1\n",
    "df[df['Semester'] == 1]\n"
   ]
  }
 ],
 "metadata": {},
 "nbformat": 4,
 "nbformat_minor": 5
}
